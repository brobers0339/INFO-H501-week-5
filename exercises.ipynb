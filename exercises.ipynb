{
 "cells": [
  {
   "cell_type": "markdown",
   "id": "e3aad6c5",
   "metadata": {},
   "source": [
    "<font color='darkorange'> Unless otherwise noted, **this notebook will not be reviewed or autograded.**</font> You are welcome to use it for scratchwork, but **only the files listed in the exercises will be checked.**\n",
    "\n",
    "---\n",
    "\n",
    "# Exercises\n",
    "\n",
    "For these exercises, add your functions to the *apputil\\.py* file and *app\\.py* file as instructed. *These exercises use the same [Titanic dataset](https://www.kaggle.com/competitions/titanic/data) as the lab.*\n",
    "\n",
    "\n",
    "## Exercise 1: Survival Patterns\n"
   ]
  },
  {
   "cell_type": "markdown",
   "id": "5833bb5f",
   "metadata": {},
   "source": [
    "For this exercise you will analyze survival patterns on the Titanic by looking at passenger class, sex, and age group. Name the function `survival_demographics()`.\n",
    "\n",
    "1. Create a new column in the Titanic dataset that classifies passengers into age categories (i.e., a pandas `category` series). The categories should be:\n",
    "    - Child (up to 12)\n",
    "    - Teen (13–19)\n",
    "    - Adult (20–59)\n",
    "    - Senior (60+)  \n",
    "  \n",
    "\tHint: The `pd.cut()` function might come in handy here.\n",
    "\n",
    "2. Group the passengers by class, sex, and age group.  \n",
    "\n",
    "3. For each group, calculate:  \n",
    "    - The total number of passengers, `n_passengers`\n",
    "    - The number of survivors, `n_survivors`\n",
    "    - The survival rate, `survival_rate`\n",
    "\n",
    "4. Return a table that includes the results for *all* combinations of class, sex, and age group.  \n",
    "\n",
    "5. Order the results so they are easy to interpret.  \n",
    "\n",
    "6. Come up with a clear question that your results table makes you curious about (e.g., “Did women in first class have a higher survival rate than men in other classes?”). Write this question in your `app.py` file above the call to your visualization function, using `st.write(\"Your Question Here\")`.\n",
    "   \n",
    "7. Create a Plotly visualization in a function named `visualize_demographic()` that directly addresses your question by returning a Plotly figure (e.g., `fig = px. ...`). You are free to choose the chart type that you think best communicates the findings. Be creative — try different approaches, compare them, and ensure that your chart clearly answers the question you posed.\n"
   ]
  },
  {
   "cell_type": "code",
   "execution_count": null,
   "id": "1595df9b",
   "metadata": {},
   "outputs": [
    {
     "name": "stdout",
     "output_type": "stream",
     "text": [
      "Index(['n_passengers', 'n_survivors', 'survival_rate'], dtype='object')\n"
     ]
    },
    {
     "name": "stderr",
     "output_type": "stream",
     "text": [
      "/tmp/ipykernel_1630/859893419.py:12: FutureWarning:\n",
      "\n",
      "The default of observed=False is deprecated and will be changed to True in a future version of pandas. Pass observed=False to retain current behavior or observed=True to adopt the future default and silence this warning.\n",
      "\n",
      "/tmp/ipykernel_1630/859893419.py:12: FutureWarning:\n",
      "\n",
      "The default of observed=False is deprecated and will be changed to True in a future version of pandas. Pass observed=False to retain current behavior or observed=True to adopt the future default and silence this warning.\n",
      "\n"
     ]
    }
   ],
   "source": [
    "import pandas as pd\n",
    "import plotly.express as px\n",
    "\n",
    "df = pd.read_csv('https://raw.githubusercontent.com/leontoddjohnson/datasets/main/data/titanic.csv')\n",
    "\n",
    "def survival_demographics():\n",
    "    ages = [0, 12, 19, 59, float('inf')]\n",
    "    labels = ['Child', 'Teen', 'Adult', 'Senior']\n",
    "    df['age_group'] = pd.cut(df['Age'], bins=ages, labels=labels, right=True, include_lowest=True)\n",
    "    df['age_group'] = df['age_group'].astype('category')\n",
    "\n",
    "    age_grouped = df.groupby(['Pclass', 'Sex', 'age_group']).agg(\n",
    "        n_passengers = ('PassengerId', 'count'),\n",
    "        n_survivors = ('Survived', 'sum')\n",
    "    )\n",
    "    age_grouped['survival_rate'] = age_grouped['n_survivors'] / age_grouped['n_passengers']\n",
    "    return age_grouped\n",
    "\n",
    "survival_demographics()\n",
    "\n",
    "def visualize_demographic():\n",
    "    grouped_df = survival_demographics()\n",
    "    print(grouped_df.columns)\n",
    "    women_filtered = grouped_df[\n",
    "        (grouped_df['Sex'] == 'female') & (grouped_df['age_group'].isin(['Teen','Adult']))\n",
    "    ]\n",
    "    #For answering this question, we will be using \"women\" as adult and teen females. Children will be any gender child. \n",
    "    women_fig = px.bar(women_filtered, \n",
    "                       x='age_group', \n",
    "                       y='Survived',\n",
    "                       color= 'Pclass',\n",
    "                       barmode= 'group'\n",
    "    )\n",
    "\n",
    "    women_fig.show()\n",
    "\n",
    "visualize_demographic()\n"
   ]
  },
  {
   "cell_type": "markdown",
   "id": "3e8a0793",
   "metadata": {},
   "source": [
    "## Exercise 2: Family Size and Wealth"
   ]
  },
  {
   "cell_type": "markdown",
   "id": "93bea550",
   "metadata": {},
   "source": [
    "Using the Titanic dataset, write a function named `family_groups()` to explore the relationship between family size, passenger class, and ticket fare.  \n",
    "\n",
    "1. Create a new column in the Titanic dataset that represents the total family size for each passenger, `family_size`. Family size is defined as the number of siblings/spouses aboard plus the number of parents/children aboard, plus the passenger themselves.\n",
    "\n",
    "2. Group the passengers by family size and passenger class. For each group, calculate:  \n",
    "   - The total number of passengers, `n_passengers`\n",
    "   - The average ticket fare, `avg_fare`\n",
    "   - The minimum and maximum ticket fares (to capture variation in wealth), `min_fare` and `max_fare`\n",
    "\n",
    "3. Return a table with these results, sorted so that the values are clear and easy to interpret (for example, by class and then family size).\n",
    "\n",
    "4. Write a function called `last_names()` that extracts the last name of each passenger from the `Name` column, and returns the count for each last name (i.e., a pandas series with last name as index, and count as value). Does this result agree with that of the data table above? Share your findings in your app using `st.write`.\n",
    "\n",
    "5. Just like you did in Exercise 1, come up with a clear question that your results makes you curious about. Write this question in your app.py file above the call to your visualization function. Then, create a Plotly visualization in a function named `visualize_families()` that directly addresses your question. As in Exercise 1 you are free to choose the chart type that you think best communicates the findings."
   ]
  },
  {
   "cell_type": "code",
   "execution_count": 20,
   "id": "773ae67f",
   "metadata": {},
   "outputs": [
    {
     "name": "stdout",
     "output_type": "stream",
     "text": [
      "                    n_passengers    avg_fare  min_fare  max_fare\n",
      "Pclass family_size                                              \n",
      "1      1                     109   63.672514    0.0000  512.3292\n",
      "       2                      70   91.848039   29.7000  512.3292\n",
      "       3                      24   95.681075   26.2833  211.5000\n",
      "       4                       7  133.521429  120.0000  151.5500\n",
      "       5                       2  262.375000  262.3750  262.3750\n",
      "       6                       4  263.000000  263.0000  263.0000\n",
      "2      1                     104   14.066106    0.0000   73.5000\n",
      "       2                      34   24.682962   11.5000   33.0000\n",
      "       3                      31   31.693819   13.0000   73.5000\n",
      "       4                      13   36.575969   11.5000   65.0000\n",
      "       5                       1   23.000000   23.0000   23.0000\n",
      "       6                       1   18.750000   18.7500   18.7500\n",
      "3      1                     324    9.272052    0.0000   56.4958\n",
      "       2                      57   13.410023    6.4958   24.1500\n",
      "       3                      47   16.378277    7.2292   24.1500\n",
      "       4                       9   20.103689   15.8500   23.4500\n",
      "       5                      12   26.972233   21.0750   34.3750\n",
      "       6                      17   32.420588   27.9000   39.6875\n",
      "       7                      12   29.366667    7.9250   31.3875\n",
      "       8                       6   46.900000   46.9000   46.9000\n",
      "       11                      7   69.550000   69.5500   69.5500\n",
      "0\n",
      "Andersson    9\n",
      "Sage         7\n",
      "Skoog        6\n",
      "Panula       6\n",
      "Carter       6\n",
      "            ..\n",
      "Nysveen      1\n",
      "Young        1\n",
      "Slayter      1\n",
      "Danoff       1\n",
      "Haas         1\n",
      "Name: count, Length: 667, dtype: int64\n"
     ]
    }
   ],
   "source": [
    "df = pd.read_csv('https://raw.githubusercontent.com/leontoddjohnson/datasets/main/data/titanic.csv')\n",
    "\n",
    "def family_groups():\n",
    "    df['family_size'] = df['Parch'] + df['SibSp'] + 1\n",
    "    family_grouped = df.groupby(['Pclass', 'family_size']).agg(\n",
    "        n_passengers = ('PassengerId', 'count'),\n",
    "        avg_fare = ('Fare', 'mean'),\n",
    "        min_fare = ('Fare', 'min'),\n",
    "        max_fare = ('Fare', 'max')\n",
    "    )\n",
    "    return family_grouped\n",
    "\n",
    "print(family_groups())\n",
    "\n",
    "def last_names():\n",
    "    last_names = df['Name'].str.split(',', expand=True)[0].str.strip()\n",
    "    return last_names.value_counts()\n",
    "\n",
    "print(last_names())"
   ]
  },
  {
   "cell_type": "markdown",
   "id": "fd60f1c3",
   "metadata": {},
   "source": [
    "## Bonus Question\n",
    "\n",
    "Add a new column, `older_passenger`, to the Titanic dataset that indicates whether each passenger’s age is above the median age for *their* passenger class. So, suppose row $x$ is in passenger class 2. Then, a value of `True` at row $x$ would indicate that passenger older than 50% of class 2 passengers, and `False` would indicate that they younger.\n",
    "\n",
    "- You should use pandas functions to accomplish this.\n",
    "- The new column should contain Boolean values (True if the age is above the median, False if less than or equal to).\n",
    "- Return the updated table in the function `determine_age_division()`\n",
    "\n",
    "Once you’ve created this column, consider how this age division relates to your analysis above. Try to visualize this analysis in Plotly using the function name `visualize_age_division()`."
   ]
  },
  {
   "cell_type": "markdown",
   "id": "496069f5",
   "metadata": {},
   "source": []
  }
 ],
 "metadata": {
  "kernelspec": {
   "display_name": "base",
   "language": "python",
   "name": "python3"
  },
  "language_info": {
   "codemirror_mode": {
    "name": "ipython",
    "version": 3
   },
   "file_extension": ".py",
   "mimetype": "text/x-python",
   "name": "python",
   "nbconvert_exporter": "python",
   "pygments_lexer": "ipython3",
   "version": "3.11.13"
  }
 },
 "nbformat": 4,
 "nbformat_minor": 5
}
