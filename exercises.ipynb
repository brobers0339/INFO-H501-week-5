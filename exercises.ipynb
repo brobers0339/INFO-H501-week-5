{
 "cells": [
  {
   "cell_type": "markdown",
   "id": "e3aad6c5",
   "metadata": {},
   "source": [
    "<font color='darkorange'> Unless otherwise noted, **this notebook will not be reviewed or autograded.**</font> You are welcome to use it for scratchwork, but **only the files listed in the exercises will be checked.**\n",
    "\n",
    "---\n",
    "\n",
    "# Exercises\n",
    "\n",
    "For these exercises, add your functions to the *apputil\\.py* file and *app\\.py* file as instructed. *These exercises use the same [Titanic dataset](https://www.kaggle.com/competitions/titanic/data) as the lab.*\n",
    "\n",
    "\n",
    "## Exercise 1: Survival Patterns\n"
   ]
  },
  {
   "cell_type": "markdown",
   "id": "5833bb5f",
   "metadata": {},
   "source": [
    "For this exercise you will analyze survival patterns on the Titanic by looking at passenger class, sex, and age group. Name the function `survival_demographics()`.\n",
    "\n",
    "1. Create a new column in the Titanic dataset that classifies passengers into age categories (i.e., a pandas `category` series). The categories should be:\n",
    "    - Child (up to 12)\n",
    "    - Teen (13–19)\n",
    "    - Adult (20–59)\n",
    "    - Senior (60+)  \n",
    "  \n",
    "\tHint: The `pd.cut()` function might come in handy here.\n",
    "\n",
    "2. Group the passengers by class, sex, and age group.  \n",
    "\n",
    "3. For each group, calculate:  \n",
    "    - The total number of passengers, `n_passengers`\n",
    "    - The number of survivors, `n_survivors`\n",
    "    - The survival rate, `survival_rate`\n",
    "\n",
    "4. Return a table that includes the results for *all* combinations of class, sex, and age group.  \n",
    "\n",
    "5. Order the results so they are easy to interpret.  \n",
    "\n",
    "6. Come up with a clear question that your results table makes you curious about (e.g., “Did women in first class have a higher survival rate than men in other classes?”). Write this question in your `app.py` file above the call to your visualization function, using `st.write(\"Your Question Here\")`.\n",
    "   \n",
    "7. Create a Plotly visualization in a function named `visualize_demographic()` that directly addresses your question by returning a Plotly figure (e.g., `fig = px. ...`). You are free to choose the chart type that you think best communicates the findings. Be creative — try different approaches, compare them, and ensure that your chart clearly answers the question you posed.\n"
   ]
  },
  {
   "cell_type": "code",
   "execution_count": 23,
   "id": "1595df9b",
   "metadata": {},
   "outputs": [
    {
     "name": "stderr",
     "output_type": "stream",
     "text": [
      "/tmp/ipykernel_3927/4074158215.py:9: FutureWarning: The default of observed=False is deprecated and will be changed to True in a future version of pandas. Pass observed=False to retain current behavior or observed=True to adopt the future default and silence this warning.\n",
      "  df_grouped = df.groupby(['Pclass', 'Sex', 'age_group']).agg(\n"
     ]
    },
    {
     "ename": "NameError",
     "evalue": "name 'st' is not defined",
     "output_type": "error",
     "traceback": [
      "\u001b[31m---------------------------------------------------------------------------\u001b[39m",
      "\u001b[31mNameError\u001b[39m                                 Traceback (most recent call last)",
      "\u001b[36mCell\u001b[39m\u001b[36m \u001b[39m\u001b[32mIn[23]\u001b[39m\u001b[32m, line 18\u001b[39m\n\u001b[32m     14\u001b[39m     \u001b[38;5;28;01mreturn\u001b[39;00m df_grouped\n\u001b[32m     16\u001b[39m survival_demographics()\n\u001b[32m---> \u001b[39m\u001b[32m18\u001b[39m \u001b[43mst\u001b[49m.write(\u001b[33m\"\u001b[39m\u001b[33mWe\u001b[39m\u001b[33m'\u001b[39m\u001b[33mve all heard the saying \u001b[39m\u001b[33m'\u001b[39m\u001b[33mWomen and Children first\u001b[39m\u001b[33m'\u001b[39m\u001b[33m from the retelling of the titanic. However, did the class of an individual affect the survival rate of women and children?\u001b[39m\u001b[33m\"\u001b[39m)\n",
      "\u001b[31mNameError\u001b[39m: name 'st' is not defined"
     ]
    }
   ],
   "source": [
    "import pandas as pd\n",
    "def survival_demographics():\n",
    "    df = pd.read_csv('https://raw.githubusercontent.com/leontoddjohnson/datasets/main/data/titanic.csv')\n",
    "    ages = [0, 12, 19, 59, float('inf')]\n",
    "    labels = ['Child', 'Teen', 'Adult', 'Senior']\n",
    "    df['age_group'] = pd.cut(df['Age'], bins=ages, labels=labels, right=True, include_lowest=True)\n",
    "    df['age_group'] = df['age_group'].astype('category')\n",
    "\n",
    "    df_grouped = df.groupby(['Pclass', 'Sex', 'age_group']).agg(\n",
    "        n_passengers = ('PassengerId', 'count'),\n",
    "        n_survivors = ('Survived', 'sum')\n",
    "    )\n",
    "    df_grouped['survival_rate'] = df_grouped['n_survivors'] / df_grouped['n_passengers']\n",
    "    return df_grouped\n",
    "\n",
    "survival_demographics()\n",
    "\n",
    "st.write(\"We've all heard the saying 'Women and Children first' from the retelling of the titanic. However, did the class of an individual affect the survival rate of women and children?\")\n",
    "\n"
   ]
  },
  {
   "cell_type": "markdown",
   "id": "3e8a0793",
   "metadata": {},
   "source": [
    "## Exercise 2: Family Size and Wealth"
   ]
  },
  {
   "cell_type": "markdown",
   "id": "93bea550",
   "metadata": {},
   "source": [
    "Using the Titanic dataset, write a function named `family_groups()` to explore the relationship between family size, passenger class, and ticket fare.  \n",
    "\n",
    "1. Create a new column in the Titanic dataset that represents the total family size for each passenger, `family_size`. Family size is defined as the number of siblings/spouses aboard plus the number of parents/children aboard, plus the passenger themselves.\n",
    "\n",
    "2. Group the passengers by family size and passenger class. For each group, calculate:  \n",
    "   - The total number of passengers, `n_passengers`\n",
    "   - The average ticket fare, `avg_fare`\n",
    "   - The minimum and maximum ticket fares (to capture variation in wealth), `min_fare` and `max_fare`\n",
    "\n",
    "3. Return a table with these results, sorted so that the values are clear and easy to interpret (for example, by class and then family size).\n",
    "\n",
    "4. Write a function called `last_names()` that extracts the last name of each passenger from the `Name` column, and returns the count for each last name (i.e., a pandas series with last name as index, and count as value). Does this result agree with that of the data table above? Share your findings in your app using `st.write`.\n",
    "\n",
    "5. Just like you did in Exercise 1, come up with a clear question that your results makes you curious about. Write this question in your app.py file above the call to your visualization function. Then, create a Plotly visualization in a function named `visualize_families()` that directly addresses your question. As in Exercise 1 you are free to choose the chart type that you think best communicates the findings."
   ]
  },
  {
   "cell_type": "markdown",
   "id": "fd60f1c3",
   "metadata": {},
   "source": [
    "## Bonus Question\n",
    "\n",
    "Add a new column, `older_passenger`, to the Titanic dataset that indicates whether each passenger’s age is above the median age for *their* passenger class. So, suppose row $x$ is in passenger class 2. Then, a value of `True` at row $x$ would indicate that passenger older than 50% of class 2 passengers, and `False` would indicate that they younger.\n",
    "\n",
    "- You should use pandas functions to accomplish this.\n",
    "- The new column should contain Boolean values (True if the age is above the median, False if less than or equal to).\n",
    "- Return the updated table in the function `determine_age_division()`\n",
    "\n",
    "Once you’ve created this column, consider how this age division relates to your analysis above. Try to visualize this analysis in Plotly using the function name `visualize_age_division()`."
   ]
  },
  {
   "cell_type": "markdown",
   "id": "496069f5",
   "metadata": {},
   "source": []
  }
 ],
 "metadata": {
  "kernelspec": {
   "display_name": "base",
   "language": "python",
   "name": "python3"
  },
  "language_info": {
   "codemirror_mode": {
    "name": "ipython",
    "version": 3
   },
   "file_extension": ".py",
   "mimetype": "text/x-python",
   "name": "python",
   "nbconvert_exporter": "python",
   "pygments_lexer": "ipython3",
   "version": "3.11.13"
  }
 },
 "nbformat": 4,
 "nbformat_minor": 5
}
